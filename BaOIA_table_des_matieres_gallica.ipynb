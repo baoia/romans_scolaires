{
  "nbformat": 4,
  "nbformat_minor": 0,
  "metadata": {
    "colab": {
      "name": "BaOIA_table_des_matieres_gallica.ipynb",
      "provenance": [],
      "collapsed_sections": []
    },
    "kernelspec": {
      "name": "python3",
      "display_name": "Python 3"
    }
  },
  "cells": [
    {
      "cell_type": "markdown",
      "metadata": {
        "id": "VSCYHxc0L8bl"
      },
      "source": [
        "# **Scraper des tables de matières (Gallica)**\n",
        "\n",
        "Ce scraper permet de récupérer automatiquement la table des matières d'un document sur Gallica.\n",
        "\n",
        "*Document d'entrée* : fichier excel (.xlsx) contenant les liens vers les documents dans Gallica, par exemple : https://gallica.bnf.fr/ark:/12148/bpt6k5529888n.\n",
        "\n",
        "*Document de sortie* : fichier texte (.txt) pour chaque lien de document Gallica dans lequel se trouve le sommaire."
      ]
    },
    {
      "cell_type": "code",
      "metadata": {
        "id": "vNR74XCNs0eJ"
      },
      "source": [
        "#@markdown # Connexion du notebook à son compte Google Drive et signalement du dossier de travail :\n",
        "\n",
        "#@markdown - Lancer la cellule\n",
        "#@markdown - Cliquer sur « Exécuter malgré tout » lors de l’apparition du message d’avertissement indiquant que le notebook n’a pas été créé par Google\n",
        "#@markdown - Cliquer sur « Se connecter à Google Drive » lors de l’apparition du second message d’avertissement pour donner l’autorisation au notebook d’accéder à vos fichiers Google Drive\n",
        "#@markdown - Choisir son compte Gmail puis cliquer sur « Autoriser »\n",
        "\n",
        "''' \n",
        "Google Colab notebook.\n",
        "Python == 3.7.11\n",
        "\n",
        "BaOIA - La Contemporaine - Université de Nanterre\n",
        "'''\n",
        "\n",
        "## Installation des bibliothèques et connexion au compte Google Drive\n",
        "\n",
        "from google.colab import drive\n",
        "from openpyxl import load_workbook\n",
        "import pandas as pd\n",
        "import re\n",
        "import requests\n",
        "import shutil\n",
        "import os\n",
        "import xml.etree.ElementTree as ET\n",
        "import lxml\n",
        "from lxml import etree\n",
        "from re import match\n",
        "from bs4 import BeautifulSoup\n",
        "import urllib.request, urllib.error, urllib.parse\n",
        "import string\n",
        "from urllib.error import HTTPError\n",
        "\n",
        "drive.mount('/content/drive/')\n",
        "%cd /content/drive/My Drive/\n",
        "\n",
        "#@markdown ###Indiquer le chemin vers le dossier de travail sur le Google Drive :\n",
        "chemin_vers_dossier_travail = '/content/drive/My Drive/gallica'#@param {type:\"string\"}\n",
        "\n",
        "if not os.path.exists(chemin_vers_dossier_travail):\n",
        "      os.makedirs(chemin_vers_dossier_travail)\n",
        "os.chdir(chemin_vers_dossier_travail)"
      ],
      "execution_count": null,
      "outputs": []
    },
    {
      "cell_type": "code",
      "metadata": {
        "id": "1n75WaxGceDk"
      },
      "source": [
        "#@markdown # Récupération des tables des matières des documents Gallica : \n",
        "\n",
        "#@markdown ###Indiquer le chemin vers le fichier Excel (.xlsx) contenant les liens Gallica :\n",
        "chemin_vers_fichier_excel = '/content/drive/My Drive/gallica/documents.xlsx' #@param {type:\"string\"}\n",
        "\n",
        "#@markdown ###Indiquer le nom de la feuille du fichier Excel (il s'agit des onglets en bas du document) :\n",
        "nom_feuille = 'Feuille 1' #@param {type:\"string\"}\n",
        "\n",
        "#@markdown ###Indiquer la lettre de la colonne avec le lien ou identifiant ARK sur Gallica :\n",
        "lettre_colonne = 'A' #@param {type:\"string\"}\n",
        "\n",
        "def table_mat(fichier_excel):\n",
        "\n",
        "  \"\"\" Fonction qui télécharge sous forme de fichier .txt les tables des matières \n",
        "  des documents dont l'identifiant est indiqué dans un fichiers .xlsx. \n",
        "  La fonction utilise l'API Gallica dédiée \"\"\"\n",
        "\n",
        "  wb= load_workbook(chemin_vers_fichier_excel)\n",
        "  ws= wb[nom_feuille]\n",
        "  column_id = ws[lettre_colonne]\n",
        "  id_list = [column_id[x].value for x in range(len(column_id))]\n",
        "  for e in id_list:\n",
        "    if e == None:\n",
        "      exit()\n",
        "    else: \n",
        "      match = re.findall(r\"b[a-z0-9]{4,}\", e)\n",
        "      for id in match:\n",
        "        url = \"\".join([\"https://gallica.bnf.fr/services/Toc?ark=ark:/12148/\",id])\n",
        "        request = urllib.request.Request(url)\n",
        "        try:\n",
        "          content = urllib.request.urlopen(request)\n",
        "          parse = BeautifulSoup(content, 'html.parser')\n",
        "          text1 = parse.find_all('seg')\n",
        "          filename = \"\".join([id,\"_table_des_matieres.txt\"])\n",
        "          text2 = re.sub('<.*?>', '', str(text1))\n",
        "          text5 = re.sub(\"\\d+\", \"\", text2)\n",
        "          with open(filename, 'w') as text_file:\n",
        "            text_file.write(str(text5))\n",
        "        except HTTPError as tp:\n",
        "          print(\"Le contenu de ce lien n'a pas pu être téléchargé : \" + id)\n",
        "\n",
        "table_mat(chemin_vers_fichier_excel)"
      ],
      "execution_count": 2,
      "outputs": []
    }
  ]
}