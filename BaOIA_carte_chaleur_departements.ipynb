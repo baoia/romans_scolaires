{
  "nbformat": 4,
  "nbformat_minor": 0,
  "metadata": {
    "colab": {
      "name": "BaOIA_carte_chaleur_departements.ipynb",
      "provenance": [],
      "collapsed_sections": []
    },
    "kernelspec": {
      "display_name": "Python 3",
      "name": "python3"
    },
    "language_info": {
      "name": "python"
    }
  },
  "cells": [
    {
      "cell_type": "markdown",
      "metadata": {
        "id": "BJRPsWleULIG"
      },
      "source": [
        "# **Outil de cartographie : carte de chaleur par département (France)**\n",
        "\n",
        "Il est nécessaire de télécharger les limites géographiques des départements de France disponibles sur le Github : c'est le dossier \"france_departements\".\n",
        "\n",
        "*Document d'entrée* : un fichier JSON contenant les informations sur les lieux obtenus par l'alignement avec Wikidata (voir notebook ```BaOIA_alignement_lieux_wikidata.ipynb```)\n",
        "\n",
        "*Documents de sortie* : une carte de chaleur au format PNG et trois fichiers Excel utiles pour la création de la carte."
      ]
    },
    {
      "cell_type": "code",
      "metadata": {
        "id": "91UgGC9sHEOB",
        "cellView": "form"
      },
      "source": [
        "#@markdown # Connexion du notebook à son compte Google Drive et signalement du dossier de travail :\n",
        "\n",
        "#@markdown - Lancer la cellule\n",
        "#@markdown - Cliquer sur « Exécuter malgré tout » lors de l’apparition du message d’avertissement indiquant que le notebook n’a pas été créé par Google\n",
        "#@markdown - Cliquer sur « Se connecter à Google Drive » lors de l’apparition du second message d’avertissement pour donner l’autorisation au notebook d’accéder à vos fichiers Google Drive\n",
        "#@markdown - Choisir son compte Gmail puis cliquer sur « Autoriser »\n",
        "\n",
        "''' \n",
        "Google Colab notebook.\n",
        "Python == 3.7.11\n",
        "\n",
        "BaOIA - La Contemporaine - Université de Nanterre\n",
        "'''\n",
        "\n",
        "## Installation des bibliothèques et connexion au compte Google Drive\n",
        "!pip install pgeocode==0.3.0\n",
        "!pip install geopandas==0.9.0\n",
        "from google.colab import drive\n",
        "import json\n",
        "import pgeocode\n",
        "import os\n",
        "from openpyxl import load_workbook\n",
        "import pandas as pd\n",
        "import geopandas as gpd\n",
        "import matplotlib.pyplot as plt\n",
        "import seaborn as sns\n",
        "sns.set(style=\"darkgrid\")\n",
        "%matplotlib inline\n",
        "\n",
        "drive.mount('/content/drive/')\n",
        "%cd /content/drive/My Drive/\n",
        "\n",
        "#@markdown ###Indiquer le chemin vers le dossier de travail sur le Google Drive :\n",
        "chemin_vers_dossier_travail = '/content/drive/My Drive/lieux_wikidata/'#@param {type:\"string\"}\n",
        "\n",
        "if not os.path.exists(chemin_vers_dossier_travail):\n",
        "      os.makedirs(chemin_vers_dossier_travail)\n",
        "os.chdir(chemin_vers_dossier_travail)"
      ],
      "execution_count": null,
      "outputs": []
    },
    {
      "cell_type": "code",
      "metadata": {
        "id": "VbLEyoS_qmZ6",
        "cellView": "form"
      },
      "source": [
        "#@markdown #Création de la carte de chaleur par département :\n",
        "\n",
        "#@markdown ####Indiquer le chemin vers le fichier \"France_departements-polygons.shp\" contenu dans le dossier \"france_departements\":\n",
        "chemin_fichier_shp = '/content/drive/My Drive/lieux_wikidata/france_departements/France_departements-polygon.shp' #@param {type:\"string\"}\n",
        "\n",
        "#@markdown ####Indiquer le chemin vers le fichier JSON contenant les informations sur lieux :\n",
        "chemin_fichier_json = \"/content/drive/My Drive/lieux_wikidata/infos_lieux.json\" #@param {type:\"string\"}\n",
        "\n",
        "liste_codes = []\n",
        "\n",
        "with open(chemin_fichier_json, \"r\") as f :\n",
        "  contenu_json = json.load(f)\n",
        "  for lieu in contenu_json:\n",
        "    code = contenu_json[lieu][\"Code Postal\"]\n",
        "    liste_codes.append(code)\n",
        "\n",
        "nomi = pgeocode.Nominatim('fr')\n",
        "df_tout = nomi.query_postal_code(liste_codes)\n",
        "df_tout.to_excel('df_tout.xlsx', index = True, header=True)\n",
        "\n",
        "## Compter nombre par département\n",
        "df_nbr_depart=df_tout['county_name'].value_counts().rename_axis('nom').reset_index(name='county_name')\n",
        "df_nbr_depart.to_excel('df_nbr_depart.xlsx', index = True, header=True)\n",
        "df2_nbr_depart = pd.DataFrame(df_nbr_depart)\n",
        "\n",
        "departs = gpd.read_file(chemin_fichier_shp)\n",
        "departs.to_excel('voir_departs.xlsx', index = True, header=True)\n",
        "departs.plot(figsize=(20,10))\n",
        "merged = departs.set_index('nom').join(df2_nbr_depart.set_index('nom'))\n",
        "merged = merged.reset_index()\n",
        "merged = merged.fillna(0)\n",
        "merged[['nom', 'geometry', 'county_name', 'code']]\n",
        "fig, ax = plt.subplots(1, figsize=(20, 10))\n",
        "ax.axis('off')\n",
        "color = 'Reds'\n",
        "vmin, vmax = 4, 93\n",
        "sm = plt.cm.ScalarMappable(cmap=color, norm=plt.Normalize(vmin=vmin, vmax=vmax))\n",
        "sm._A = []\n",
        "cbar = fig.colorbar(sm)\n",
        "cbar.ax.tick_params(labelsize=15)\n",
        "cbar.ax.set_title('Nombre de lieux cités par départements \\n sur l\\'ensemble du corpus de romans scolaires', fontdict={'fontsize': '13', 'fontweight' : '1'})\n",
        "merged.plot('county_name', cmap=color, linewidth=0.8, ax=ax, edgecolor='0.8', figsize=(20,10))\n",
        "\n",
        "#@markdown ####Indiquer le nom de la carte créée au format PNG :\n",
        "nom_carte_png = 'carte_departements.png' #@param {type:\"string\"}\n",
        "\n",
        "plt.savefig(nom_carte_png)"
      ],
      "execution_count": null,
      "outputs": []
    }
  ]
}