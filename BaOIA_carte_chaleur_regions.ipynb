{
  "nbformat": 4,
  "nbformat_minor": 0,
  "metadata": {
    "colab": {
      "name": "BaOIA_carte_chaleur_regions.ipynb",
      "provenance": [],
      "collapsed_sections": []
    },
    "kernelspec": {
      "name": "python3",
      "display_name": "Python 3"
    },
    "language_info": {
      "name": "python"
    }
  },
  "cells": [
    {
      "cell_type": "markdown",
      "metadata": {
        "id": "dwhMBNZNYFFI"
      },
      "source": [
        "# **Outil de cartographie : carte de chaleur par région (France)**\n",
        "\n",
        "Il est nécessaire de télécharger les limites géographiques des départements de France disponibles sur le Github : c'est le dossier \"france_regions\".\n",
        "\n",
        "*Document d'entrée* : un fichier JSON contenant les informations sur les lieux obtenus par l'alignement avec Wikidata (voir notebook ```BaOIA_alignement_lieux_wikidata.ipynb```).\n",
        "\n",
        "*Documents de sortie* : une carte de chaleur au format PNG et trois fichiers Excel utiles pour la création de la carte."
      ]
    },
    {
      "cell_type": "code",
      "metadata": {
        "id": "91UgGC9sHEOB",
        "cellView": "form"
      },
      "source": [
        "#@markdown # Connexion du notebook à son compte Google Drive et signalement du dossier de travail :\n",
        "\n",
        "#@markdown - Lancer la cellule\n",
        "#@markdown - Cliquer sur « Exécuter malgré tout » lors de l’apparition du message d’avertissement indiquant que le notebook n’a pas été créé par Google\n",
        "#@markdown - Cliquer sur « Se connecter à Google Drive » lors de l’apparition du second message d’avertissement pour donner l’autorisation au notebook d’accéder à vos fichiers Google Drive\n",
        "#@markdown - Choisir son compte Gmail puis cliquer sur « Autoriser »\n",
        "\n",
        "''' \n",
        "Google Colab notebook.\n",
        "Python == 3.7.11\n",
        "\n",
        "BaOIA - La Contemporaine - Université de Nanterre\n",
        "'''\n",
        "\n",
        "## Installation des bibliothèques et connexion au compte Google Drive\n",
        "!pip install pgeocode==0.3.0\n",
        "!pip install geopandas==0.9.0\n",
        "!pip install unidecode\n",
        "import unidecode\n",
        "from google.colab import drive\n",
        "import json\n",
        "import pgeocode\n",
        "import os\n",
        "import pandas as pd\n",
        "import geopandas as gpd\n",
        "import matplotlib.pyplot as plt\n",
        "import seaborn as sns\n",
        "sns.set(style=\"darkgrid\")\n",
        "%matplotlib inline\n",
        "\n",
        "drive.mount('/content/drive/')\n",
        "%cd /content/drive/My Drive/\n",
        "\n",
        "#@markdown ###Indiquer le chemin vers le dossier de travail sur le Google Drive :\n",
        "chemin_vers_dossier_travail = '/content/drive/My Drive/lieux_wikidata/'#@param {type:\"string\"}\n",
        "\n",
        "if not os.path.exists(chemin_vers_dossier_travail):\n",
        "      os.makedirs(chemin_vers_dossier_travail)\n",
        "os.chdir(chemin_vers_dossier_travail)"
      ],
      "execution_count": null,
      "outputs": []
    },
    {
      "cell_type": "code",
      "metadata": {
        "id": "2MojPC87HhId",
        "cellView": "form"
      },
      "source": [
        "#@markdown #Création de la carte de chaleur par région :\n",
        "\n",
        "#@markdown ####Indiquer le chemin vers le fichier JSON contenant les informations sur lieux :\n",
        "chemin_fichier_json = \"/content/drive/My Drive/lieux_wikidata/infos_lieux.json\" #@param {type:\"string\"}\n",
        "\n",
        "liste_codes = []\n",
        "\n",
        "with open(chemin_fichier_json, \"r\") as f :\n",
        "  contenu_json = json.load(f)\n",
        "  for lieu in contenu_json:\n",
        "    code = contenu_json[lieu][\"Code Postal\"]\n",
        "    liste_codes.append(code)\n",
        "\n",
        "nomi = pgeocode.Nominatim('fr')\n",
        "df_regions = nomi.query_postal_code(liste_codes)\n",
        "df_regions.to_excel('df_tout.xlsx', index = True, header=True)\n",
        "\n",
        "## Compter nombre par régions\n",
        "df_nombre_regions=df_regions['state_name'].value_counts().rename_axis('NOUVEAUNOM').reset_index(name='state_name')\n",
        "df_nombre_regions.to_excel('df_nombre_regions.xlsx', index = True, header=True)#\n",
        "df2_nombre_regions = pd.DataFrame(df_nombre_regions)\n",
        "df2_nombre_regions['NOUVEAUNOM'] = df2_nombre_regions['NOUVEAUNOM'].str.upper()\n",
        "df2_nombre_regions['NOUVEAUNOM'] = df2_nombre_regions['NOUVEAUNOM'].str.normalize('NFKD').str.encode('ascii',errors='ignore').str.decode('utf-8')\n",
        "\n",
        "#@markdown ####Indiquer le chemin vers le fichier \"nouvelles_regions.shp\" contenu dans le dossier \"france_regions\" :\n",
        "chemin_fichier_shp = '/content/drive/My Drive/lieux_wikidata/france_regions/nouvelles_regions.shp' #@param {type:\"string\"}\n",
        "\n",
        "regions = gpd.read_file(chemin_fichier_shp)\n",
        "regions.to_excel('voir_regions.xlsx', index = True, header=True)\n",
        "\n",
        "merged = regions.set_index('NOUVEAUNOM').join(df2_nombre_regions.set_index('NOUVEAUNOM'))\n",
        "merged = merged.reset_index()\n",
        "merged = merged.fillna(0)\n",
        "merged[['NOUVEAUNOM', 'CODE_SUPRA', 'geometry', 'state_name']]\n",
        "\n",
        "fig, ax = plt.subplots(1, figsize=(20, 10))\n",
        "ax.axis('off')\n",
        "color = 'Oranges'\n",
        "vmin, vmax = 0, 535\n",
        "sm = plt.cm.ScalarMappable(cmap=color, norm=plt.Normalize(vmin=vmin, vmax=vmax))\n",
        "sm._A = []\n",
        "cbar = fig.colorbar(sm)\n",
        "cbar.ax.tick_params(labelsize=20)\n",
        "#@markdown ####Indiquer la légende de la carte créée :\n",
        "legende_carte = \"Nombre de lieux cités par région\" #@param {type:\"string\"}\n",
        "cbar.ax.set_title(legende_carte, fontdict={'fontsize': '13', 'fontweight' : '1'})\n",
        "merged.plot('state_name', cmap=color, linewidth=0.8, ax=ax, edgecolor='0.8', figsize=(20,10))\n",
        "plt.legend()\n",
        "\n",
        "#@markdown ####Indiquer le nom de la carte créée au format PNG :\n",
        "nom_carte_png = 'carte_regions.png' #@param {type:\"string\"}\n",
        "\n",
        "plt.savefig(nom_carte_png)"
      ],
      "execution_count": null,
      "outputs": []
    }
  ]
}